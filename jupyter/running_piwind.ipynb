{
 "cells": [
  {
   "cell_type": "code",
   "execution_count": null,
   "metadata": {},
   "outputs": [],
   "source": [
    "%config IPCompleter.greedy=True\n"
   ]
  },
  {
   "cell_type": "code",
   "execution_count": null,
   "metadata": {},
   "outputs": [],
   "source": [
    "import pandas as pd\n",
    "import matplotlib as mpl\n",
    "import matplotlib.pyplot as plt\n",
    "import geopandas as gpd\n",
    "import math\n",
    "import numpy as np\n",
    "import json\n",
    "import seaborn as sns\n",
    "import folium\n",
    "import os\n",
    "from shapely.geometry import Point, Polygon\n",
    "from descartes import PolygonPatch\n",
    "from mpl_toolkits.axes_grid1 import AxesGrid\n",
    "from matplotlib.offsetbox import AnchoredText"
   ]
  },
  {
   "cell_type": "markdown",
   "metadata": {},
   "source": [
    "Lets have a look at the model grid data contained in the Area Peril dictionary file. \n",
    "Note that the dictionary is only meta-data, and not required for model execution."
   ]
  },
  {
   "cell_type": "code",
   "execution_count": null,
   "metadata": {},
   "outputs": [],
   "source": [
    "area_peril_dictionary = pd.read_csv(\"../keys_data/PiWind/areaperil_dict.csv\")\n",
    "area_peril_dictionary.head()"
   ]
  },
  {
   "cell_type": "markdown",
   "metadata": {},
   "source": [
    "Lets plot the area peril cells on a map of the UK. For this model, the area perils are a simple uniform grid in a square."
   ]
  },
  {
   "cell_type": "code",
   "execution_count": null,
   "metadata": {},
   "outputs": [],
   "source": [
    "m = folium.Map(location=[\t52.737027, -0.914618], zoom_start=11, tiles='cartodbpositron')\n",
    "area_peril_dictionary['lat']=area_peril_dictionary['LAT1']\n",
    "area_peril_dictionary['lon']=area_peril_dictionary['LON1']\n",
    "num_cells = area_peril_dictionary.lat.count()\n",
    "num_cells_per_side = math.sqrt(num_cells)\n",
    "cell_size_lat = (max(area_peril_dictionary.lat) - min(area_peril_dictionary.lat)) / (num_cells_per_side - 1)\n",
    "cell_size_lon = (max(area_peril_dictionary.lon) - min(area_peril_dictionary.lon)) / (num_cells_per_side - 1)\n",
    "for i, row in area_peril_dictionary.iterrows():\n",
    "    geometry = [Polygon([\n",
    "        (row.lon, row.lat),\n",
    "        (row.lon, row.lat + cell_size_lat),\n",
    "        (row.lon + cell_size_lon, row.lat + cell_size_lat),\n",
    "        (row.lon + cell_size_lon, row.lat)])]        \n",
    "    crs = 'epsg:4326'\n",
    "    d = {'Description': ['All']}\n",
    "    df = pd.DataFrame(data=d)\n",
    "    gdf = gpd.GeoDataFrame(df, crs=crs, geometry=geometry)\n",
    "    folium.GeoJson(gdf).add_to(m)\n",
    "    \n",
    "m.save(\"piwind_extent_map.html\")"
   ]
  },
  {
   "cell_type": "code",
   "execution_count": null,
   "metadata": {},
   "outputs": [],
   "source": [
    "%%HTML\n",
    "<iframe width=\"100%\" height=350 src=\"piwind_extent_map.html\"></iframe>"
   ]
  },
  {
   "cell_type": "markdown",
   "metadata": {},
   "source": [
    "Lets have a look at the data contained in the Intensity Bin dictionary file. \n",
    "Note that the dictionary is only meta-data, and not required for model execution."
   ]
  },
  {
   "cell_type": "code",
   "execution_count": null,
   "metadata": {},
   "outputs": [],
   "source": [
    "intensity_bin_dictionary = pd.read_csv(\"../model_data/PiWind/intensity_bin_dict.csv\")\n",
    "intensity_bin_dictionary.head()"
   ]
  },
  {
   "cell_type": "markdown",
   "metadata": {},
   "source": [
    "Lets have a look at the data contained in the footprint file. "
   ]
  },
  {
   "cell_type": "code",
   "execution_count": null,
   "metadata": {},
   "outputs": [],
   "source": [
    "footprints = pd.read_csv(\"../model_data/PiWind/footprint.csv\")\n",
    "footprints.head()"
   ]
  },
  {
   "cell_type": "markdown",
   "metadata": {},
   "source": [
    "Lets visualize the first 5 event footprints."
   ]
  },
  {
   "cell_type": "code",
   "execution_count": null,
   "metadata": {
    "scrolled": true
   },
   "outputs": [],
   "source": [
    "area_peril_dictionary['gridcell'] = area_peril_dictionary['AREA_PERIL_ID'].apply(\n",
    "    lambda ap: str(int((ap-1)/10)+1)+\"-\"+str(ap-(int((ap-1)/10))*10))\n",
    "\n",
    "footprints_with_hazard = footprints.merge(\n",
    "    intensity_bin_dictionary, how='inner', \n",
    "    left_on='intensity_bin_id', right_on='bin_index').merge(\n",
    "    area_peril_dictionary, how='inner', \n",
    "    left_on='areaperil_id', right_on='AREA_PERIL_ID')\n",
    "\n",
    "footprints_with_hazard = footprints_with_hazard[footprints_with_hazard['PERIL_ID']=='WTC']\n",
    "footprints_with_hazard = footprints_with_hazard[footprints_with_hazard['COVERAGE_TYPE']==1]\n",
    "\n",
    "fig = plt.figure(figsize=(20,10))\n",
    "\n",
    "grid = AxesGrid(fig, 111,\n",
    "                nrows_ncols=(1, 5),\n",
    "                axes_pad=0.05,\n",
    "                share_all=True,\n",
    "                label_mode=\"L\",\n",
    "                cbar_location=\"right\",\n",
    "                cbar_mode=\"single\",\n",
    "                )\n",
    "\n",
    "vmin = min(footprints_with_hazard.interpolation)\n",
    "vmax = max(footprints_with_hazard.interpolation)\n",
    "for idx, ax in enumerate(grid):\n",
    "    a = np.zeros([10, 10])\n",
    "    for __, row in footprints_with_hazard[footprints_with_hazard.event_id == idx+1].iterrows():\n",
    "        i, j = row.gridcell.split('-')\n",
    "        a[10-int(i), int(j)-1] = row.interpolation\n",
    "    im = ax.imshow(a, cmap=plt.cm.get_cmap('Blues'), vmin=vmin, vmax=vmax,\n",
    "                   extent=(\n",
    "                       min(area_peril_dictionary.lon), max(area_peril_dictionary.lon), \n",
    "                       min(area_peril_dictionary.lat), max(area_peril_dictionary.lat)))\n",
    "    ax.set_xlabel(\"longitude\")\n",
    "    ax.set_ylabel(\"latitude\")\n",
    "    at = AnchoredText(\n",
    "        \"Event ID = {}\".format(idx + 1),\n",
    "        prop=dict(size=8),\n",
    "        frameon=True,\n",
    "        loc=2,\n",
    "    )\n",
    "    at.patch.set_boxstyle(\"round,pad=0.,rounding_size=0.2\")\n",
    "    ax.add_artist(at)\n",
    "\n",
    "grid[0].cax.colorbar(im)\n",
    "cax = grid.cbar_axes[0]\n",
    "axis = cax.axis[cax.orientation]\n",
    "axis.label.set_text(\"Intensity - Peak gust (mph)\")\n",
    "\n",
    "plt.show()"
   ]
  },
  {
   "cell_type": "markdown",
   "metadata": {},
   "source": [
    "Lets have a look at the data contained in the Damage Bin dictionary file. \n",
    "Note that the dictionary is required for model execution."
   ]
  },
  {
   "cell_type": "code",
   "execution_count": null,
   "metadata": {},
   "outputs": [],
   "source": [
    "damage_bin_dictionary = pd.read_csv(\"../model_data/PiWind/damage_bin_dict.csv\")\n",
    "damage_bin_dictionary.head()"
   ]
  },
  {
   "cell_type": "markdown",
   "metadata": {},
   "source": [
    "Lets have a look at the data contained in the Vulnerability file. "
   ]
  },
  {
   "cell_type": "code",
   "execution_count": null,
   "metadata": {},
   "outputs": [],
   "source": [
    "vulnerabilities = pd.read_csv(\"../model_data/PiWind/vulnerability.csv\")\n",
    "vulnerabilities.head()"
   ]
  },
  {
   "cell_type": "markdown",
   "metadata": {},
   "source": [
    "The model has seperate vulnerability curves for Residential, Commerical and Industrial occupancies. \n",
    "Lets visualise these curves."
   ]
  },
  {
   "cell_type": "code",
   "execution_count": null,
   "metadata": {},
   "outputs": [],
   "source": [
    "vulnerabilities_with_hazard_and_damage = vulnerabilities.merge(\n",
    "    intensity_bin_dictionary, how='inner', \n",
    "    left_on='intensity_bin_id', right_on='bin_index').merge(\n",
    "    damage_bin_dictionary, how='inner',\n",
    "    suffixes=[\"_i\", \"_d\"], left_on='damage_bin_id', right_on='bin_index')\n",
    "\n",
    "fig = plt.figure(figsize=(10,20))\n",
    "\n",
    "grid = AxesGrid(fig, 111,\n",
    "                nrows_ncols=(1, 3),\n",
    "                axes_pad=0.05,\n",
    "                share_all=True,\n",
    "                label_mode=\"L\",\n",
    "                cbar_location=\"right\",\n",
    "                cbar_mode=\"single\",\n",
    "                )\n",
    "\n",
    "vmin = 0.0\n",
    "vmax = max(vulnerabilities_with_hazard_and_damage.probability)\n",
    "labels = [\"Residential\", \"Commercial\", \"Industrial\"]\n",
    "for idx, ax in enumerate(grid):\n",
    "    a = np.zeros((29, 12))\n",
    "    for index, row in vulnerabilities_with_hazard_and_damage[\n",
    "        vulnerabilities_with_hazard_and_damage.vulnerability_id == idx + 1].iterrows():\n",
    "        a[int(row.bin_index_i-1), 11-int(row.bin_index_d-1)] = row.probability\n",
    "    \n",
    "    im = ax.imshow(a, cmap=plt.cm.get_cmap('Blues'), vmin=vmin, vmax=vmax,\n",
    "                   extent=(\n",
    "                       min(intensity_bin_dictionary.interpolation), max(intensity_bin_dictionary.interpolation), \n",
    "                       min(damage_bin_dictionary.interpolation) * 100, max(damage_bin_dictionary.interpolation) * 100))\n",
    "\n",
    "    at = AnchoredText(labels[idx],\n",
    "                  prop=dict(size=8), frameon=True,\n",
    "                  loc=2,\n",
    "                  )\n",
    "    at.patch.set_boxstyle(\"round,pad=0.,rounding_size=0.2\")\n",
    "    ax.add_artist(at)\n",
    "    \n",
    "    ax.set_xlabel(\"Intensity - Peak gust (mph)\")\n",
    "    ax.set_ylabel(\"Damage\")\n",
    "\n",
    "grid[0].cax.colorbar(im)\n",
    "cax = grid.cbar_axes[0]\n",
    "axis = cax.axis[cax.orientation]\n",
    "axis.label.set_text(\"Probability of damage\")\n",
    "\n",
    "plt.show()"
   ]
  },
  {
   "cell_type": "markdown",
   "metadata": {},
   "source": [
    "To run the model we need some test exposure data. Lets have a look at an example Location and Account file. "
   ]
  },
  {
   "cell_type": "code",
   "execution_count": null,
   "metadata": {},
   "outputs": [],
   "source": [
    "test_locations = pd.read_csv('../tests/inputs/SourceLocOEDPiWind.csv')\n",
    "test_locations.head()"
   ]
  },
  {
   "cell_type": "code",
   "execution_count": null,
   "metadata": {},
   "outputs": [],
   "source": [
    "test_accounts = pd.read_csv('../tests/inputs/SourceAccOEDPiWind.csv')\n",
    "test_accounts.head()"
   ]
  },
  {
   "cell_type": "markdown",
   "metadata": {},
   "source": [
    "To run the model, we also need to define some analysis settings. Lets have a look at an example settings file."
   ]
  },
  {
   "cell_type": "code",
   "execution_count": null,
   "metadata": {},
   "outputs": [],
   "source": [
    "with open('../analysis_settings.json', 'r') as myfile:\n",
    "    analysis_settings=json.loads(myfile.read().replace('\\n', ''))\n",
    "print(json.dumps(analysis_settings, indent=True))"
   ]
  },
  {
   "cell_type": "markdown",
   "metadata": {},
   "source": [
    "We can now run the model using the Oasis MDK."
   ]
  },
  {
   "cell_type": "code",
   "execution_count": null,
   "metadata": {},
   "outputs": [],
   "source": [
    "! rm -rf /tmp/analysis_test\n",
    "! oasislmf model run -C ../oasislmf.json -r /tmp/analysis_test"
   ]
  },
  {
   "cell_type": "markdown",
   "metadata": {},
   "source": [
    "Lets visualize the output of our analysis."
   ]
  },
  {
   "cell_type": "code",
   "execution_count": null,
   "metadata": {},
   "outputs": [],
   "source": [
    "analysis_directory = \"/tmp/analysis_test\"\n",
    "gul_aep = pd.read_csv(os.path.join(analysis_directory, \"output\", \"gul_S1_leccalc_full_uncertainty_aep.csv\"))\n",
    "gul_aep = gul_aep[gul_aep.type == 1]\n",
    "gul_oep = pd.read_csv(os.path.join(analysis_directory, \"output\", \"gul_S1_leccalc_full_uncertainty_oep.csv\"))\n",
    "gul_oep = gul_oep[gul_oep.type == 1]\n",
    "eps = pd.merge(gul_oep, gul_aep, on=[\"summary_id\", \"return_period\"], suffixes=[\"_oep\", \"_aep\"])\n",
    "eps = eps.sort_values(by=\"return_period\", ascending=True)\n",
    "fig, ax = plt.subplots()\n",
    "eps.plot(ax=ax, kind='bar', x='return_period', y=[\"loss_oep\", \"loss_aep\"])\n",
    "ax.set_yticklabels(['{:,}'.format(int(x)) for x in ax.get_yticks().tolist()])\n",
    "ax.set_xticklabels(['{:,}'.format(int(x)) for x in eps.return_period])\n",
    "plt.legend(('OEP', 'AEP'))\n",
    "ax.set_xlabel(\"Return period (years)\")\n",
    "ax.set_ylabel(\"Loss\")"
   ]
  },
  {
   "cell_type": "code",
   "execution_count": null,
   "metadata": {},
   "outputs": [],
   "source": []
  }
 ],
 "metadata": {
  "kernelspec": {
   "display_name": "Python 3",
   "language": "python",
   "name": "python3"
  },
  "language_info": {
   "codemirror_mode": {
    "name": "ipython",
    "version": 3
   },
   "file_extension": ".py",
   "mimetype": "text/x-python",
   "name": "python",
   "nbconvert_exporter": "python",
   "pygments_lexer": "ipython3",
   "version": "3.7.1"
  }
 },
 "nbformat": 4,
 "nbformat_minor": 2
}
